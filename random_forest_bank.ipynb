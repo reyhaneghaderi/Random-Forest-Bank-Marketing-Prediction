{
 "cells": [
  {
   "cell_type": "code",
   "execution_count": 2,
   "id": "fcf7ee58",
   "metadata": {},
   "outputs": [],
   "source": [
    "import pandas as pd\n",
    "import numpy as np\n",
    "import matplotlib.pyplot as plt"
   ]
  },
  {
   "cell_type": "code",
   "execution_count": 3,
   "id": "ebbde2d2",
   "metadata": {},
   "outputs": [],
   "source": [
    "data=pd.read_csv(r\"C:\\Users\\reyha\\Desktop\\data science class\\bank.csv\")"
   ]
  },
  {
   "cell_type": "code",
   "execution_count": 4,
   "id": "da32569b",
   "metadata": {},
   "outputs": [
    {
     "data": {
      "text/html": [
       "<div>\n",
       "<style scoped>\n",
       "    .dataframe tbody tr th:only-of-type {\n",
       "        vertical-align: middle;\n",
       "    }\n",
       "\n",
       "    .dataframe tbody tr th {\n",
       "        vertical-align: top;\n",
       "    }\n",
       "\n",
       "    .dataframe thead th {\n",
       "        text-align: right;\n",
       "    }\n",
       "</style>\n",
       "<table border=\"1\" class=\"dataframe\">\n",
       "  <thead>\n",
       "    <tr style=\"text-align: right;\">\n",
       "      <th></th>\n",
       "      <th>age</th>\n",
       "      <th>job</th>\n",
       "      <th>marital</th>\n",
       "      <th>education</th>\n",
       "      <th>default</th>\n",
       "      <th>balance</th>\n",
       "      <th>housing</th>\n",
       "      <th>loan</th>\n",
       "      <th>contact</th>\n",
       "      <th>day</th>\n",
       "      <th>month</th>\n",
       "      <th>duration</th>\n",
       "      <th>campaign</th>\n",
       "      <th>pdays</th>\n",
       "      <th>previous</th>\n",
       "      <th>poutcome</th>\n",
       "      <th>deposit</th>\n",
       "    </tr>\n",
       "  </thead>\n",
       "  <tbody>\n",
       "    <tr>\n",
       "      <th>0</th>\n",
       "      <td>59</td>\n",
       "      <td>admin.</td>\n",
       "      <td>married</td>\n",
       "      <td>secondary</td>\n",
       "      <td>no</td>\n",
       "      <td>2343</td>\n",
       "      <td>yes</td>\n",
       "      <td>no</td>\n",
       "      <td>unknown</td>\n",
       "      <td>5</td>\n",
       "      <td>may</td>\n",
       "      <td>1042</td>\n",
       "      <td>1</td>\n",
       "      <td>-1</td>\n",
       "      <td>0</td>\n",
       "      <td>unknown</td>\n",
       "      <td>yes</td>\n",
       "    </tr>\n",
       "    <tr>\n",
       "      <th>1</th>\n",
       "      <td>56</td>\n",
       "      <td>admin.</td>\n",
       "      <td>married</td>\n",
       "      <td>secondary</td>\n",
       "      <td>no</td>\n",
       "      <td>45</td>\n",
       "      <td>no</td>\n",
       "      <td>no</td>\n",
       "      <td>unknown</td>\n",
       "      <td>5</td>\n",
       "      <td>may</td>\n",
       "      <td>1467</td>\n",
       "      <td>1</td>\n",
       "      <td>-1</td>\n",
       "      <td>0</td>\n",
       "      <td>unknown</td>\n",
       "      <td>yes</td>\n",
       "    </tr>\n",
       "    <tr>\n",
       "      <th>2</th>\n",
       "      <td>41</td>\n",
       "      <td>technician</td>\n",
       "      <td>married</td>\n",
       "      <td>secondary</td>\n",
       "      <td>no</td>\n",
       "      <td>1270</td>\n",
       "      <td>yes</td>\n",
       "      <td>no</td>\n",
       "      <td>unknown</td>\n",
       "      <td>5</td>\n",
       "      <td>may</td>\n",
       "      <td>1389</td>\n",
       "      <td>1</td>\n",
       "      <td>-1</td>\n",
       "      <td>0</td>\n",
       "      <td>unknown</td>\n",
       "      <td>yes</td>\n",
       "    </tr>\n",
       "    <tr>\n",
       "      <th>3</th>\n",
       "      <td>55</td>\n",
       "      <td>services</td>\n",
       "      <td>married</td>\n",
       "      <td>secondary</td>\n",
       "      <td>no</td>\n",
       "      <td>2476</td>\n",
       "      <td>yes</td>\n",
       "      <td>no</td>\n",
       "      <td>unknown</td>\n",
       "      <td>5</td>\n",
       "      <td>may</td>\n",
       "      <td>579</td>\n",
       "      <td>1</td>\n",
       "      <td>-1</td>\n",
       "      <td>0</td>\n",
       "      <td>unknown</td>\n",
       "      <td>yes</td>\n",
       "    </tr>\n",
       "    <tr>\n",
       "      <th>4</th>\n",
       "      <td>54</td>\n",
       "      <td>admin.</td>\n",
       "      <td>married</td>\n",
       "      <td>tertiary</td>\n",
       "      <td>no</td>\n",
       "      <td>184</td>\n",
       "      <td>no</td>\n",
       "      <td>no</td>\n",
       "      <td>unknown</td>\n",
       "      <td>5</td>\n",
       "      <td>may</td>\n",
       "      <td>673</td>\n",
       "      <td>2</td>\n",
       "      <td>-1</td>\n",
       "      <td>0</td>\n",
       "      <td>unknown</td>\n",
       "      <td>yes</td>\n",
       "    </tr>\n",
       "  </tbody>\n",
       "</table>\n",
       "</div>"
      ],
      "text/plain": [
       "   age         job  marital  education default  balance housing loan  contact  \\\n",
       "0   59      admin.  married  secondary      no     2343     yes   no  unknown   \n",
       "1   56      admin.  married  secondary      no       45      no   no  unknown   \n",
       "2   41  technician  married  secondary      no     1270     yes   no  unknown   \n",
       "3   55    services  married  secondary      no     2476     yes   no  unknown   \n",
       "4   54      admin.  married   tertiary      no      184      no   no  unknown   \n",
       "\n",
       "   day month  duration  campaign  pdays  previous poutcome deposit  \n",
       "0    5   may      1042         1     -1         0  unknown     yes  \n",
       "1    5   may      1467         1     -1         0  unknown     yes  \n",
       "2    5   may      1389         1     -1         0  unknown     yes  \n",
       "3    5   may       579         1     -1         0  unknown     yes  \n",
       "4    5   may       673         2     -1         0  unknown     yes  "
      ]
     },
     "execution_count": 4,
     "metadata": {},
     "output_type": "execute_result"
    }
   ],
   "source": [
    "data.head()"
   ]
  },
  {
   "cell_type": "code",
   "execution_count": 5,
   "id": "8300b61b",
   "metadata": {},
   "outputs": [
    {
     "data": {
      "text/plain": [
       "Index(['age', 'job', 'marital', 'education', 'default', 'balance', 'housing',\n",
       "       'loan', 'contact', 'day', 'month', 'duration', 'campaign', 'pdays',\n",
       "       'previous', 'poutcome', 'deposit'],\n",
       "      dtype='object')"
      ]
     },
     "execution_count": 5,
     "metadata": {},
     "output_type": "execute_result"
    }
   ],
   "source": [
    "data.columns"
   ]
  },
  {
   "cell_type": "code",
   "execution_count": 6,
   "id": "32a0a12a",
   "metadata": {},
   "outputs": [
    {
     "data": {
      "text/plain": [
       "(11162, 17)"
      ]
     },
     "execution_count": 6,
     "metadata": {},
     "output_type": "execute_result"
    }
   ],
   "source": [
    "data.shape"
   ]
  },
  {
   "cell_type": "code",
   "execution_count": null,
   "id": "ba3024df",
   "metadata": {},
   "outputs": [],
   "source": []
  },
  {
   "cell_type": "code",
   "execution_count": 7,
   "id": "b1ff4715",
   "metadata": {},
   "outputs": [
    {
     "data": {
      "text/plain": [
       "age          0\n",
       "job          0\n",
       "marital      0\n",
       "education    0\n",
       "default      0\n",
       "balance      0\n",
       "housing      0\n",
       "loan         0\n",
       "contact      0\n",
       "day          0\n",
       "month        0\n",
       "duration     0\n",
       "campaign     0\n",
       "pdays        0\n",
       "previous     0\n",
       "poutcome     0\n",
       "deposit      0\n",
       "dtype: int64"
      ]
     },
     "execution_count": 7,
     "metadata": {},
     "output_type": "execute_result"
    }
   ],
   "source": [
    "data.isna().sum()"
   ]
  },
  {
   "cell_type": "code",
   "execution_count": 8,
   "id": "85ca3739",
   "metadata": {},
   "outputs": [
    {
     "name": "stdout",
     "output_type": "stream",
     "text": [
      "<class 'pandas.core.frame.DataFrame'>\n",
      "RangeIndex: 11162 entries, 0 to 11161\n",
      "Data columns (total 17 columns):\n",
      " #   Column     Non-Null Count  Dtype \n",
      "---  ------     --------------  ----- \n",
      " 0   age        11162 non-null  int64 \n",
      " 1   job        11162 non-null  object\n",
      " 2   marital    11162 non-null  object\n",
      " 3   education  11162 non-null  object\n",
      " 4   default    11162 non-null  object\n",
      " 5   balance    11162 non-null  int64 \n",
      " 6   housing    11162 non-null  object\n",
      " 7   loan       11162 non-null  object\n",
      " 8   contact    11162 non-null  object\n",
      " 9   day        11162 non-null  int64 \n",
      " 10  month      11162 non-null  object\n",
      " 11  duration   11162 non-null  int64 \n",
      " 12  campaign   11162 non-null  int64 \n",
      " 13  pdays      11162 non-null  int64 \n",
      " 14  previous   11162 non-null  int64 \n",
      " 15  poutcome   11162 non-null  object\n",
      " 16  deposit    11162 non-null  object\n",
      "dtypes: int64(7), object(10)\n",
      "memory usage: 1.4+ MB\n"
     ]
    }
   ],
   "source": [
    "data.info()"
   ]
  },
  {
   "cell_type": "code",
   "execution_count": 9,
   "id": "6f544737",
   "metadata": {},
   "outputs": [
    {
     "data": {
      "text/html": [
       "<div>\n",
       "<style scoped>\n",
       "    .dataframe tbody tr th:only-of-type {\n",
       "        vertical-align: middle;\n",
       "    }\n",
       "\n",
       "    .dataframe tbody tr th {\n",
       "        vertical-align: top;\n",
       "    }\n",
       "\n",
       "    .dataframe thead th {\n",
       "        text-align: right;\n",
       "    }\n",
       "</style>\n",
       "<table border=\"1\" class=\"dataframe\">\n",
       "  <thead>\n",
       "    <tr style=\"text-align: right;\">\n",
       "      <th></th>\n",
       "      <th>age</th>\n",
       "      <th>balance</th>\n",
       "      <th>day</th>\n",
       "      <th>duration</th>\n",
       "      <th>campaign</th>\n",
       "      <th>pdays</th>\n",
       "      <th>previous</th>\n",
       "    </tr>\n",
       "  </thead>\n",
       "  <tbody>\n",
       "    <tr>\n",
       "      <th>count</th>\n",
       "      <td>11162.000000</td>\n",
       "      <td>11162.000000</td>\n",
       "      <td>11162.000000</td>\n",
       "      <td>11162.000000</td>\n",
       "      <td>11162.000000</td>\n",
       "      <td>11162.000000</td>\n",
       "      <td>11162.000000</td>\n",
       "    </tr>\n",
       "    <tr>\n",
       "      <th>mean</th>\n",
       "      <td>41.231948</td>\n",
       "      <td>1528.538524</td>\n",
       "      <td>15.658036</td>\n",
       "      <td>371.993818</td>\n",
       "      <td>2.508421</td>\n",
       "      <td>51.330407</td>\n",
       "      <td>0.832557</td>\n",
       "    </tr>\n",
       "    <tr>\n",
       "      <th>std</th>\n",
       "      <td>11.913369</td>\n",
       "      <td>3225.413326</td>\n",
       "      <td>8.420740</td>\n",
       "      <td>347.128386</td>\n",
       "      <td>2.722077</td>\n",
       "      <td>108.758282</td>\n",
       "      <td>2.292007</td>\n",
       "    </tr>\n",
       "    <tr>\n",
       "      <th>min</th>\n",
       "      <td>18.000000</td>\n",
       "      <td>-6847.000000</td>\n",
       "      <td>1.000000</td>\n",
       "      <td>2.000000</td>\n",
       "      <td>1.000000</td>\n",
       "      <td>-1.000000</td>\n",
       "      <td>0.000000</td>\n",
       "    </tr>\n",
       "    <tr>\n",
       "      <th>25%</th>\n",
       "      <td>32.000000</td>\n",
       "      <td>122.000000</td>\n",
       "      <td>8.000000</td>\n",
       "      <td>138.000000</td>\n",
       "      <td>1.000000</td>\n",
       "      <td>-1.000000</td>\n",
       "      <td>0.000000</td>\n",
       "    </tr>\n",
       "    <tr>\n",
       "      <th>50%</th>\n",
       "      <td>39.000000</td>\n",
       "      <td>550.000000</td>\n",
       "      <td>15.000000</td>\n",
       "      <td>255.000000</td>\n",
       "      <td>2.000000</td>\n",
       "      <td>-1.000000</td>\n",
       "      <td>0.000000</td>\n",
       "    </tr>\n",
       "    <tr>\n",
       "      <th>75%</th>\n",
       "      <td>49.000000</td>\n",
       "      <td>1708.000000</td>\n",
       "      <td>22.000000</td>\n",
       "      <td>496.000000</td>\n",
       "      <td>3.000000</td>\n",
       "      <td>20.750000</td>\n",
       "      <td>1.000000</td>\n",
       "    </tr>\n",
       "    <tr>\n",
       "      <th>max</th>\n",
       "      <td>95.000000</td>\n",
       "      <td>81204.000000</td>\n",
       "      <td>31.000000</td>\n",
       "      <td>3881.000000</td>\n",
       "      <td>63.000000</td>\n",
       "      <td>854.000000</td>\n",
       "      <td>58.000000</td>\n",
       "    </tr>\n",
       "  </tbody>\n",
       "</table>\n",
       "</div>"
      ],
      "text/plain": [
       "                age       balance           day      duration      campaign  \\\n",
       "count  11162.000000  11162.000000  11162.000000  11162.000000  11162.000000   \n",
       "mean      41.231948   1528.538524     15.658036    371.993818      2.508421   \n",
       "std       11.913369   3225.413326      8.420740    347.128386      2.722077   \n",
       "min       18.000000  -6847.000000      1.000000      2.000000      1.000000   \n",
       "25%       32.000000    122.000000      8.000000    138.000000      1.000000   \n",
       "50%       39.000000    550.000000     15.000000    255.000000      2.000000   \n",
       "75%       49.000000   1708.000000     22.000000    496.000000      3.000000   \n",
       "max       95.000000  81204.000000     31.000000   3881.000000     63.000000   \n",
       "\n",
       "              pdays      previous  \n",
       "count  11162.000000  11162.000000  \n",
       "mean      51.330407      0.832557  \n",
       "std      108.758282      2.292007  \n",
       "min       -1.000000      0.000000  \n",
       "25%       -1.000000      0.000000  \n",
       "50%       -1.000000      0.000000  \n",
       "75%       20.750000      1.000000  \n",
       "max      854.000000     58.000000  "
      ]
     },
     "execution_count": 9,
     "metadata": {},
     "output_type": "execute_result"
    }
   ],
   "source": [
    "data.describe()"
   ]
  },
  {
   "cell_type": "code",
   "execution_count": 10,
   "id": "ca48e875",
   "metadata": {},
   "outputs": [
    {
     "data": {
      "text/plain": [
       "array([[<AxesSubplot:title={'center':'age'}>,\n",
       "        <AxesSubplot:title={'center':'balance'}>,\n",
       "        <AxesSubplot:title={'center':'day'}>],\n",
       "       [<AxesSubplot:title={'center':'duration'}>,\n",
       "        <AxesSubplot:title={'center':'campaign'}>,\n",
       "        <AxesSubplot:title={'center':'pdays'}>],\n",
       "       [<AxesSubplot:title={'center':'previous'}>, <AxesSubplot:>,\n",
       "        <AxesSubplot:>]], dtype=object)"
      ]
     },
     "execution_count": 10,
     "metadata": {},
     "output_type": "execute_result"
    },
    {
     "data": {
      "image/png": "[encoded data removed]",
      "text/plain": [
       "<Figure size 640x480 with 9 Axes>"
      ]
     },
     "metadata": {},
     "output_type": "display_data"
    }
   ],
   "source": [
    "data.hist(bins=20)"
   ]
  },
  {
   "cell_type": "code",
   "execution_count": 63,
   "id": "0e7a2b86",
   "metadata": {},
   "outputs": [
    {
     "data": {
      "image/png": "[encoded data removed]",
      "text/plain": [
       "<Figure size 1000x800 with 20 Axes>"
      ]
     },
     "metadata": {},
     "output_type": "display_data"
    }
   ],
   "source": [
    "data.hist(bins=20, figsize=(10, 8))\n",
    "plt.tight_layout(pad=2.5)\n",
    "plt.show()"
   ]
  },
  {
   "cell_type": "code",
   "execution_count": 11,
   "id": "0bae8fb0",
   "metadata": {},
   "outputs": [
    {
     "data": {
      "text/plain": [
       "True"
      ]
     },
     "execution_count": 11,
     "metadata": {},
     "output_type": "execute_result"
    }
   ],
   "source": [
    "(data[\"pdays\"] < 0).any()"
   ]
  },
  {
   "cell_type": "code",
   "execution_count": 12,
   "id": "a26bae25",
   "metadata": {},
   "outputs": [
    {
     "data": {
      "text/plain": [
       "False"
      ]
     },
     "execution_count": 12,
     "metadata": {},
     "output_type": "execute_result"
    }
   ],
   "source": [
    "(data[\"previous\"] < 0).any()"
   ]
  },
  {
   "cell_type": "code",
   "execution_count": 13,
   "id": "eb4aa066",
   "metadata": {},
   "outputs": [
    {
     "data": {
      "text/plain": [
       "array(['admin.', 'technician', 'services', 'management', 'retired',\n",
       "       'blue-collar', 'unemployed', 'entrepreneur', 'housemaid',\n",
       "       'unknown', 'self-employed', 'student'], dtype=object)"
      ]
     },
     "execution_count": 13,
     "metadata": {},
     "output_type": "execute_result"
    }
   ],
   "source": [
    "data['job'].unique() "
   ]
  },
  {
   "cell_type": "code",
   "execution_count": 14,
   "id": "f2a24e30",
   "metadata": {},
   "outputs": [
    {
     "data": {
      "text/plain": [
       "management       2566\n",
       "blue-collar      1944\n",
       "technician       1823\n",
       "admin.           1334\n",
       "services          923\n",
       "retired           778\n",
       "self-employed     405\n",
       "student           360\n",
       "unemployed        357\n",
       "entrepreneur      328\n",
       "housemaid         274\n",
       "unknown            70\n",
       "Name: job, dtype: int64"
      ]
     },
     "execution_count": 14,
     "metadata": {},
     "output_type": "execute_result"
    }
   ],
   "source": [
    "data['job'].value_counts()\n"
   ]
  },
  {
   "cell_type": "code",
   "execution_count": 15,
   "id": "c5ea39e6",
   "metadata": {},
   "outputs": [],
   "source": [
    "from sklearn.preprocessing import LabelEncoder,LabelBinarizer"
   ]
  },
  {
   "cell_type": "code",
   "execution_count": 16,
   "id": "70ffb08b",
   "metadata": {},
   "outputs": [],
   "source": [
    "\n",
    "\n",
    "le = LabelEncoder()\n",
    "data['job'] = le.fit_transform(data['job'])\n"
   ]
  },
  {
   "cell_type": "code",
   "execution_count": 17,
   "id": "4005957b",
   "metadata": {},
   "outputs": [
    {
     "data": {
      "text/plain": [
       "array(['married', 'single', 'divorced'], dtype=object)"
      ]
     },
     "execution_count": 17,
     "metadata": {},
     "output_type": "execute_result"
    }
   ],
   "source": [
    "data['marital'].unique() "
   ]
  },
  {
   "cell_type": "code",
   "execution_count": 18,
   "id": "a0c1c5fa",
   "metadata": {},
   "outputs": [],
   "source": [
    "data['marital'] = le.fit_transform(data['marital'])"
   ]
  },
  {
   "cell_type": "code",
   "execution_count": 19,
   "id": "e361d45e",
   "metadata": {},
   "outputs": [
    {
     "data": {
      "text/plain": [
       "array(['secondary', 'tertiary', 'primary', 'unknown'], dtype=object)"
      ]
     },
     "execution_count": 19,
     "metadata": {},
     "output_type": "execute_result"
    }
   ],
   "source": [
    " data['education'].unique() "
   ]
  },
  {
   "cell_type": "code",
   "execution_count": 20,
   "id": "6ba44134",
   "metadata": {},
   "outputs": [
    {
     "data": {
      "text/plain": [
       "secondary    5476\n",
       "tertiary     3689\n",
       "primary      1500\n",
       "unknown       497\n",
       "Name: education, dtype: int64"
      ]
     },
     "execution_count": 20,
     "metadata": {},
     "output_type": "execute_result"
    }
   ],
   "source": [
    "data['education'].value_counts()"
   ]
  },
  {
   "cell_type": "code",
   "execution_count": 21,
   "id": "34d6d273",
   "metadata": {},
   "outputs": [],
   "source": [
    "\n",
    "data['education'] = data['education'].replace('unknown', np.nan)\n"
   ]
  },
  {
   "cell_type": "code",
   "execution_count": 22,
   "id": "9bde00cf",
   "metadata": {},
   "outputs": [],
   "source": [
    "mode_sec = data['education'].mode()[0]\n",
    "data['education'].fillna(mode_sec, inplace=True)\n"
   ]
  },
  {
   "cell_type": "code",
   "execution_count": 23,
   "id": "bba605f4",
   "metadata": {},
   "outputs": [],
   "source": [
    "mapping = {'primary':0, 'secondary':1, 'tertiary':2}\n",
    "data['education'] = data['education'].map(mapping)\n"
   ]
  },
  {
   "cell_type": "code",
   "execution_count": 24,
   "id": "fac46807",
   "metadata": {},
   "outputs": [
    {
     "data": {
      "text/plain": [
       "0"
      ]
     },
     "execution_count": 24,
     "metadata": {},
     "output_type": "execute_result"
    }
   ],
   "source": [
    "data['education'].isna().sum()"
   ]
  },
  {
   "cell_type": "code",
   "execution_count": 25,
   "id": "624cd7f1",
   "metadata": {},
   "outputs": [
    {
     "data": {
      "text/plain": [
       "array([1, 2, 0], dtype=int64)"
      ]
     },
     "execution_count": 25,
     "metadata": {},
     "output_type": "execute_result"
    }
   ],
   "source": [
    "data['education'].unique()"
   ]
  },
  {
   "cell_type": "code",
   "execution_count": 26,
   "id": "b2dc9bd4",
   "metadata": {},
   "outputs": [],
   "source": [
    "lb=LabelBinarizer()\n",
    "data[\"default\"]=lb.fit_transform(data[\"default\"])"
   ]
  },
  {
   "cell_type": "code",
   "execution_count": 27,
   "id": "04ca7ac1",
   "metadata": {},
   "outputs": [
    {
     "data": {
      "text/plain": [
       "array([0, 1])"
      ]
     },
     "execution_count": 27,
     "metadata": {},
     "output_type": "execute_result"
    }
   ],
   "source": [
    "data[\"default\"].unique()"
   ]
  },
  {
   "cell_type": "code",
   "execution_count": 28,
   "id": "522dd06c",
   "metadata": {},
   "outputs": [],
   "source": [
    "data[\"housing\"]=lb.fit_transform(data[\"housing\"])"
   ]
  },
  {
   "cell_type": "code",
   "execution_count": 29,
   "id": "2a95fe25",
   "metadata": {},
   "outputs": [
    {
     "data": {
      "text/plain": [
       "array([1, 0])"
      ]
     },
     "execution_count": 29,
     "metadata": {},
     "output_type": "execute_result"
    }
   ],
   "source": [
    "data[\"housing\"].unique()"
   ]
  },
  {
   "cell_type": "code",
   "execution_count": 30,
   "id": "d1b11f77",
   "metadata": {},
   "outputs": [],
   "source": [
    "data[\"loan\"]=lb.fit_transform(data[\"loan\"])"
   ]
  },
  {
   "cell_type": "code",
   "execution_count": 31,
   "id": "a346b052",
   "metadata": {},
   "outputs": [
    {
     "data": {
      "text/plain": [
       "array([0, 1])"
      ]
     },
     "execution_count": 31,
     "metadata": {},
     "output_type": "execute_result"
    }
   ],
   "source": [
    "data[\"loan\"].unique()"
   ]
  },
  {
   "cell_type": "code",
   "execution_count": 32,
   "id": "40964e61",
   "metadata": {},
   "outputs": [
    {
     "data": {
      "text/plain": [
       "array(['unknown', 'cellular', 'telephone'], dtype=object)"
      ]
     },
     "execution_count": 32,
     "metadata": {},
     "output_type": "execute_result"
    }
   ],
   "source": [
    "data[\"contact\"].unique()"
   ]
  },
  {
   "cell_type": "code",
   "execution_count": 33,
   "id": "cc1771cc",
   "metadata": {},
   "outputs": [],
   "source": [
    "data[\"contact\"]=le.fit_transform(data[\"contact\"])"
   ]
  },
  {
   "cell_type": "code",
   "execution_count": 34,
   "id": "ee5163c9",
   "metadata": {},
   "outputs": [
    {
     "data": {
      "text/plain": [
       "array([2, 0, 1])"
      ]
     },
     "execution_count": 34,
     "metadata": {},
     "output_type": "execute_result"
    }
   ],
   "source": [
    "data[\"contact\"].unique()"
   ]
  },
  {
   "cell_type": "code",
   "execution_count": 35,
   "id": "d47ed06d",
   "metadata": {},
   "outputs": [
    {
     "data": {
      "text/plain": [
       "array(['may', 'jun', 'jul', 'aug', 'oct', 'nov', 'dec', 'jan', 'feb',\n",
       "       'mar', 'apr', 'sep'], dtype=object)"
      ]
     },
     "execution_count": 35,
     "metadata": {},
     "output_type": "execute_result"
    }
   ],
   "source": [
    "data[\"month\"].unique()"
   ]
  },
  {
   "cell_type": "code",
   "execution_count": 36,
   "id": "fd521544",
   "metadata": {},
   "outputs": [],
   "source": [
    "mapping = {\n",
    "    'jan': 1, 'feb': 2, 'mar': 3, 'apr': 4,\n",
    "    'may': 5, 'jun': 6, 'jul': 7, 'aug': 8,\n",
    "    'sep': 9, 'oct':10, 'nov':11, 'dec':12\n",
    "}\n",
    "data['month'] = data['month'].map(mapping)\n"
   ]
  },
  {
   "cell_type": "code",
   "execution_count": 37,
   "id": "dd60f294",
   "metadata": {},
   "outputs": [],
   "source": [
    "data[\"poutcome\"]=le.fit_transform(data[\"poutcome\"])"
   ]
  },
  {
   "cell_type": "code",
   "execution_count": 38,
   "id": "49ea43ab",
   "metadata": {},
   "outputs": [
    {
     "data": {
      "text/plain": [
       "array([3, 1, 0, 2])"
      ]
     },
     "execution_count": 38,
     "metadata": {},
     "output_type": "execute_result"
    }
   ],
   "source": [
    "data[\"poutcome\"].unique()"
   ]
  },
  {
   "cell_type": "code",
   "execution_count": 39,
   "id": "9dc00822",
   "metadata": {},
   "outputs": [],
   "source": [
    "data[\"deposit\"]=lb.fit_transform(data[\"deposit\"])"
   ]
  },
  {
   "cell_type": "code",
   "execution_count": 40,
   "id": "ebc12a70",
   "metadata": {},
   "outputs": [],
   "source": [
    "from sklearn.ensemble import RandomForestClassifier\n",
    "from sklearn import metrics\n",
    "from sklearn.model_selection import train_test_split"
   ]
  },
  {
   "cell_type": "code",
   "execution_count": 41,
   "id": "9f9ae07d",
   "metadata": {},
   "outputs": [],
   "source": [
    "x=data.drop(columns=[\"deposit\",\"duration\"])"
   ]
  },
  {
   "cell_type": "code",
   "execution_count": 42,
   "id": "71e899e8",
   "metadata": {},
   "outputs": [],
   "source": [
    "y=data[\"deposit\"]"
   ]
  },
  {
   "cell_type": "code",
   "execution_count": 43,
   "id": "550884e3",
   "metadata": {},
   "outputs": [],
   "source": [
    "x_train,x_test,y_train,y_test=train_test_split(x,y,test_size=0.3,random_state=1234)\n",
    "x_val,x_test,y_val,y_test=train_test_split(x_test,y_test,test_size=0.5,random_state=1234)"
   ]
  },
  {
   "cell_type": "code",
   "execution_count": 44,
   "id": "23617731",
   "metadata": {},
   "outputs": [
    {
     "data": {
      "text/plain": [
       "(11162, 15)"
      ]
     },
     "execution_count": 44,
     "metadata": {},
     "output_type": "execute_result"
    }
   ],
   "source": [
    "x.shape"
   ]
  },
  {
   "cell_type": "code",
   "execution_count": 45,
   "id": "d062786d",
   "metadata": {},
   "outputs": [],
   "source": [
    "param_dist = {\n",
    "    'n_estimators':    [15,100, 300, 500, 1000,10000],     \n",
    "    'max_depth':       [ 10, 15,7,22],        \n",
    "    'max_features':    [ 2, 4, 6],      \n",
    "    'min_samples_split':[2, 5, 7, 9],                \n",
    "    'min_samples_leaf': [1, 2, 4, 7],                                   \n",
    "    'max_samples':     [ 0.2, 0.3, 0.5],          \n",
    "    'class_weight':    ['balanced',\"balanced_subsample\"],\n",
    "    'criterion':        ['gini', 'entropy'],\n",
    "    \"bootstrap\":        [\"True\",\"False\"] \n",
    "}\n"
   ]
  },
  {
   "cell_type": "code",
   "execution_count": 46,
   "id": "9a9ba4b0",
   "metadata": {},
   "outputs": [
    {
     "name": "stdout",
     "output_type": "stream",
     "text": [
      "Fitting 5 folds for each of 7 candidates, totalling 35 fits\n",
      "[CV] END bootstrap=False, class_weight=balanced_subsample, criterion=entropy, max_depth=22, max_features=6, max_samples=0.2, min_samples_leaf=7, min_samples_split=5, n_estimators=100; total time=   0.8s\n",
      "[CV] END bootstrap=False, class_weight=balanced_subsample, criterion=entropy, max_depth=22, max_features=6, max_samples=0.2, min_samples_leaf=7, min_samples_split=5, n_estimators=100; total time=   0.6s\n",
      "[CV] END bootstrap=False, class_weight=balanced_subsample, criterion=entropy, max_depth=22, max_features=6, max_samples=0.2, min_samples_leaf=7, min_samples_split=5, n_estimators=100; total time=   0.6s\n",
      "[CV] END bootstrap=False, class_weight=balanced_subsample, criterion=entropy, max_depth=22, max_features=6, max_samples=0.2, min_samples_leaf=7, min_samples_split=5, n_estimators=100; total time=   0.6s\n",
      "[CV] END bootstrap=False, class_weight=balanced_subsample, criterion=entropy, max_depth=22, max_features=6, max_samples=0.2, min_samples_leaf=7, min_samples_split=5, n_estimators=100; total time=   0.6s\n",
      "[CV] END bootstrap=False, class_weight=balanced_subsample, criterion=entropy, max_depth=15, max_features=2, max_samples=0.5, min_samples_leaf=4, min_samples_split=2, n_estimators=500; total time=   3.4s\n",
      "[CV] END bootstrap=False, class_weight=balanced_subsample, criterion=entropy, max_depth=15, max_features=2, max_samples=0.5, min_samples_leaf=4, min_samples_split=2, n_estimators=500; total time=   3.5s\n",
      "[CV] END bootstrap=False, class_weight=balanced_subsample, criterion=entropy, max_depth=15, max_features=2, max_samples=0.5, min_samples_leaf=4, min_samples_split=2, n_estimators=500; total time=   3.7s\n",
      "[CV] END bootstrap=False, class_weight=balanced_subsample, criterion=entropy, max_depth=15, max_features=2, max_samples=0.5, min_samples_leaf=4, min_samples_split=2, n_estimators=500; total time=   3.3s\n",
      "[CV] END bootstrap=False, class_weight=balanced_subsample, criterion=entropy, max_depth=15, max_features=2, max_samples=0.5, min_samples_leaf=4, min_samples_split=2, n_estimators=500; total time=   3.5s\n",
      "[CV] END bootstrap=True, class_weight=balanced, criterion=gini, max_depth=15, max_features=4, max_samples=0.3, min_samples_leaf=4, min_samples_split=9, n_estimators=1000; total time=   6.1s\n",
      "[CV] END bootstrap=True, class_weight=balanced, criterion=gini, max_depth=15, max_features=4, max_samples=0.3, min_samples_leaf=4, min_samples_split=9, n_estimators=1000; total time=   5.9s\n",
      "[CV] END bootstrap=True, class_weight=balanced, criterion=gini, max_depth=15, max_features=4, max_samples=0.3, min_samples_leaf=4, min_samples_split=9, n_estimators=1000; total time=   6.0s\n",
      "[CV] END bootstrap=True, class_weight=balanced, criterion=gini, max_depth=15, max_features=4, max_samples=0.3, min_samples_leaf=4, min_samples_split=9, n_estimators=1000; total time=   6.1s\n",
      "[CV] END bootstrap=True, class_weight=balanced, criterion=gini, max_depth=15, max_features=4, max_samples=0.3, min_samples_leaf=4, min_samples_split=9, n_estimators=1000; total time=   6.5s\n",
      "[CV] END bootstrap=False, class_weight=balanced_subsample, criterion=gini, max_depth=22, max_features=2, max_samples=0.5, min_samples_leaf=7, min_samples_split=7, n_estimators=100; total time=   0.6s\n",
      "[CV] END bootstrap=False, class_weight=balanced_subsample, criterion=gini, max_depth=22, max_features=2, max_samples=0.5, min_samples_leaf=7, min_samples_split=7, n_estimators=100; total time=   0.6s\n",
      "[CV] END bootstrap=False, class_weight=balanced_subsample, criterion=gini, max_depth=22, max_features=2, max_samples=0.5, min_samples_leaf=7, min_samples_split=7, n_estimators=100; total time=   0.6s\n",
      "[CV] END bootstrap=False, class_weight=balanced_subsample, criterion=gini, max_depth=22, max_features=2, max_samples=0.5, min_samples_leaf=7, min_samples_split=7, n_estimators=100; total time=   0.5s\n",
      "[CV] END bootstrap=False, class_weight=balanced_subsample, criterion=gini, max_depth=22, max_features=2, max_samples=0.5, min_samples_leaf=7, min_samples_split=7, n_estimators=100; total time=   0.6s\n",
      "[CV] END bootstrap=False, class_weight=balanced_subsample, criterion=gini, max_depth=22, max_features=6, max_samples=0.2, min_samples_leaf=1, min_samples_split=9, n_estimators=300; total time=   2.3s\n",
      "[CV] END bootstrap=False, class_weight=balanced_subsample, criterion=gini, max_depth=22, max_features=6, max_samples=0.2, min_samples_leaf=1, min_samples_split=9, n_estimators=300; total time=   1.9s\n",
      "[CV] END bootstrap=False, class_weight=balanced_subsample, criterion=gini, max_depth=22, max_features=6, max_samples=0.2, min_samples_leaf=1, min_samples_split=9, n_estimators=300; total time=   2.2s\n",
      "[CV] END bootstrap=False, class_weight=balanced_subsample, criterion=gini, max_depth=22, max_features=6, max_samples=0.2, min_samples_leaf=1, min_samples_split=9, n_estimators=300; total time=   2.1s\n",
      "[CV] END bootstrap=False, class_weight=balanced_subsample, criterion=gini, max_depth=22, max_features=6, max_samples=0.2, min_samples_leaf=1, min_samples_split=9, n_estimators=300; total time=   2.0s\n",
      "[CV] END bootstrap=False, class_weight=balanced, criterion=gini, max_depth=22, max_features=6, max_samples=0.2, min_samples_leaf=4, min_samples_split=5, n_estimators=300; total time=   1.6s\n",
      "[CV] END bootstrap=False, class_weight=balanced, criterion=gini, max_depth=22, max_features=6, max_samples=0.2, min_samples_leaf=4, min_samples_split=5, n_estimators=300; total time=   1.8s\n",
      "[CV] END bootstrap=False, class_weight=balanced, criterion=gini, max_depth=22, max_features=6, max_samples=0.2, min_samples_leaf=4, min_samples_split=5, n_estimators=300; total time=   1.8s\n",
      "[CV] END bootstrap=False, class_weight=balanced, criterion=gini, max_depth=22, max_features=6, max_samples=0.2, min_samples_leaf=4, min_samples_split=5, n_estimators=300; total time=   1.8s\n",
      "[CV] END bootstrap=False, class_weight=balanced, criterion=gini, max_depth=22, max_features=6, max_samples=0.2, min_samples_leaf=4, min_samples_split=5, n_estimators=300; total time=   1.6s\n",
      "[CV] END bootstrap=False, class_weight=balanced_subsample, criterion=gini, max_depth=7, max_features=2, max_samples=0.2, min_samples_leaf=4, min_samples_split=5, n_estimators=500; total time=   2.4s\n",
      "[CV] END bootstrap=False, class_weight=balanced_subsample, criterion=gini, max_depth=7, max_features=2, max_samples=0.2, min_samples_leaf=4, min_samples_split=5, n_estimators=500; total time=   2.5s\n",
      "[CV] END bootstrap=False, class_weight=balanced_subsample, criterion=gini, max_depth=7, max_features=2, max_samples=0.2, min_samples_leaf=4, min_samples_split=5, n_estimators=500; total time=   2.4s\n",
      "[CV] END bootstrap=False, class_weight=balanced_subsample, criterion=gini, max_depth=7, max_features=2, max_samples=0.2, min_samples_leaf=4, min_samples_split=5, n_estimators=500; total time=   2.4s\n",
      "[CV] END bootstrap=False, class_weight=balanced_subsample, criterion=gini, max_depth=7, max_features=2, max_samples=0.2, min_samples_leaf=4, min_samples_split=5, n_estimators=500; total time=   2.4s\n",
      "بهترین پارامترها: {'n_estimators': 300, 'min_samples_split': 9, 'min_samples_leaf': 1, 'max_samples': 0.2, 'max_features': 6, 'max_depth': 22, 'criterion': 'gini', 'class_weight': 'balanced_subsample', 'bootstrap': 'False'}\n",
      "بهترین امتیاز CV: 0.727251591910563\n"
     ]
    }
   ],
   "source": [
    "from sklearn.model_selection import RandomizedSearchCV\n",
    "\n",
    "rfc = RandomForestClassifier(oob_score=True, random_state=1234)\n",
    "\n",
    "search = RandomizedSearchCV(\n",
    "    estimator=rfc,\n",
    "    param_distributions=param_dist,\n",
    "    n_iter=7, \n",
    "    cv=5,                           \n",
    "    verbose=2,\n",
    "    random_state=1234\n",
    ")\n",
    "\n",
    "search.fit(x_train, y_train)\n",
    "\n",
    "print(\"بهترین پارامترها:\", search.best_params_)\n",
    "print(\"بهترین امتیاز CV:\", search.best_score_)\n"
   ]
  },
  {
   "cell_type": "code",
   "execution_count": 47,
   "id": "2aab5f78",
   "metadata": {},
   "outputs": [
    {
     "data": {
      "text/plain": [
       "RandomForestClassifier(class_weight='balanced', criterion='entropy',\n",
       "                       max_depth=22, max_features=6, max_samples=0.2,\n",
       "                       min_samples_split=9, n_estimators=300,\n",
       "                       random_state=1234)"
      ]
     },
     "execution_count": 47,
     "metadata": {},
     "output_type": "execute_result"
    }
   ],
   "source": [
    "rfc=RandomForestClassifier(n_estimators= 300, min_samples_split= 9, min_samples_leaf=1,max_features= 6,max_depth= 22 ,max_samples= 0.2,criterion='entropy',class_weight='balanced',bootstrap= True,random_state=1234)\n",
    "rfc.fit(x_train,y_train)"
   ]
  },
  {
   "cell_type": "code",
   "execution_count": 48,
   "id": "cb1bef61",
   "metadata": {},
   "outputs": [
    {
     "data": {
      "text/plain": [
       "0.798796876999872"
      ]
     },
     "execution_count": 48,
     "metadata": {},
     "output_type": "execute_result"
    }
   ],
   "source": [
    "rfc.score(x_train,y_train)"
   ]
  },
  {
   "cell_type": "code",
   "execution_count": 49,
   "id": "a200b114",
   "metadata": {},
   "outputs": [
    {
     "data": {
      "text/plain": [
       "0.7240143369175627"
      ]
     },
     "execution_count": 49,
     "metadata": {},
     "output_type": "execute_result"
    }
   ],
   "source": [
    "rfc.score(x_val,y_val)"
   ]
  },
  {
   "cell_type": "code",
   "execution_count": 50,
   "id": "ffc73565",
   "metadata": {},
   "outputs": [
    {
     "data": {
      "text/plain": [
       "[Text(0.5, 0.9, 'pdays <= 43.0\\nentropy = 0.998\\nsamples = 1427\\nvalue = [817.838, 740.815]\\nclass = Yes'),\n",
       " Text(0.25, 0.7, 'housing <= 0.5\\nentropy = 0.972\\nsamples = 1074\\nvalue = [694.783, 467.381]\\nclass = Yes'),\n",
       " Text(0.125, 0.5, 'month <= 8.5\\nentropy = 1.0\\nsamples = 559\\nvalue = [314.262, 298.87]\\nclass = Yes'),\n",
       " Text(0.0625, 0.3, 'age <= 25.5\\nentropy = 0.991\\nsamples = 471\\nvalue = [284.918, 226.802]\\nclass = Yes'),\n",
       " Text(0.03125, 0.1, '\\n  (...)  \\n'),\n",
       " Text(0.09375, 0.1, '\\n  (...)  \\n'),\n",
       " Text(0.1875, 0.3, 'balance <= 9565.5\\nentropy = 0.868\\nsamples = 88\\nvalue = [29.344, 72.068]\\nclass = No'),\n",
       " Text(0.15625, 0.1, '\\n  (...)  \\n'),\n",
       " Text(0.21875, 0.1, '\\n  (...)  \\n'),\n",
       " Text(0.375, 0.5, 'balance <= 225.5\\nentropy = 0.89\\nsamples = 515\\nvalue = [380.522, 168.512]\\nclass = Yes'),\n",
       " Text(0.3125, 0.3, 'day <= 3.5\\nentropy = 0.718\\nsamples = 187\\nvalue = [154.291, 38.154]\\nclass = Yes'),\n",
       " Text(0.28125, 0.1, '\\n  (...)  \\n'),\n",
       " Text(0.34375, 0.1, '\\n  (...)  \\n'),\n",
       " Text(0.4375, 0.3, 'contact <= 1.5\\nentropy = 0.947\\nsamples = 328\\nvalue = [226.231, 130.358]\\nclass = Yes'),\n",
       " Text(0.40625, 0.1, '\\n  (...)  \\n'),\n",
       " Text(0.46875, 0.1, '\\n  (...)  \\n'),\n",
       " Text(0.75, 0.7, 'housing <= 0.5\\nentropy = 0.894\\nsamples = 353\\nvalue = [123.054, 273.434]\\nclass = No'),\n",
       " Text(0.625, 0.5, 'poutcome <= 0.5\\nentropy = 0.641\\nsamples = 199\\nvalue = [36.916, 189.708]\\nclass = No'),\n",
       " Text(0.5625, 0.3, 'pdays <= 103.0\\nentropy = 0.925\\nsamples = 62\\nvalue = [24.611, 47.692]\\nclass = No'),\n",
       " Text(0.53125, 0.1, '\\n  (...)  \\n'),\n",
       " Text(0.59375, 0.1, '\\n  (...)  \\n'),\n",
       " Text(0.6875, 0.3, 'pdays <= 196.5\\nentropy = 0.401\\nsamples = 137\\nvalue = [12.305, 142.016]\\nclass = No'),\n",
       " Text(0.65625, 0.1, '\\n  (...)  \\n'),\n",
       " Text(0.71875, 0.1, '\\n  (...)  \\n'),\n",
       " Text(0.875, 0.5, 'poutcome <= 1.5\\nentropy = 1.0\\nsamples = 154\\nvalue = [86.138, 83.726]\\nclass = Yes'),\n",
       " Text(0.8125, 0.3, 'campaign <= 6.5\\nentropy = 0.979\\nsamples = 122\\nvalue = [77.619, 55.111]\\nclass = Yes'),\n",
       " Text(0.78125, 0.1, '\\n  (...)  \\n'),\n",
       " Text(0.84375, 0.1, '\\n  (...)  \\n'),\n",
       " Text(0.9375, 0.3, 'month <= 2.5\\nentropy = 0.777\\nsamples = 32\\nvalue = [8.519, 28.615]\\nclass = No'),\n",
       " Text(0.90625, 0.1, '\\n  (...)  \\n'),\n",
       " Text(0.96875, 0.1, '\\n  (...)  \\n')]"
      ]
     },
     "execution_count": 50,
     "metadata": {},
     "output_type": "execute_result"
    },
    {
     "data": {
      "image/png": "[encoded data removed]",
      "text/plain": [
       "<Figure size 2000x1000 with 1 Axes>"
      ]
     },
     "metadata": {},
     "output_type": "display_data"
    }
   ],
   "source": [
    "from sklearn.tree import plot_tree\n",
    "estimator=rfc.estimators_[0]\n",
    "plt.figure(figsize=(20,10))\n",
    "plot_tree(\n",
    "    estimator,\n",
    "    feature_names=x_train.columns,\n",
    "    class_names=[\"Yes\",\"No\"],\n",
    "    filled=True,\n",
    "    max_depth=3\n",
    ")"
   ]
  },
  {
   "cell_type": "code",
   "execution_count": 51,
   "id": "beb09e13",
   "metadata": {},
   "outputs": [],
   "source": [
    "from sklearn.metrics import classification_report,confusion_matrix"
   ]
  },
  {
   "cell_type": "code",
   "execution_count": 52,
   "id": "b86f5dd4",
   "metadata": {},
   "outputs": [
    {
     "data": {
      "text/plain": [
       "0.7367164179104477"
      ]
     },
     "execution_count": 52,
     "metadata": {},
     "output_type": "execute_result"
    }
   ],
   "source": [
    "rfc.score(x_test,y_test)"
   ]
  },
  {
   "cell_type": "code",
   "execution_count": 53,
   "id": "7d35a1d1",
   "metadata": {},
   "outputs": [],
   "source": [
    "y_pred = rfc.predict(x_test)"
   ]
  },
  {
   "cell_type": "code",
   "execution_count": 54,
   "id": "b541f9a7",
   "metadata": {},
   "outputs": [
    {
     "name": "stdout",
     "output_type": "stream",
     "text": [
      "              precision    recall  f1-score   support\n",
      "\n",
      "          no       0.72      0.83      0.77       878\n",
      "         yes       0.77      0.64      0.70       797\n",
      "\n",
      "    accuracy                           0.74      1675\n",
      "   macro avg       0.74      0.73      0.73      1675\n",
      "weighted avg       0.74      0.74      0.73      1675\n",
      "\n"
     ]
    }
   ],
   "source": [
    "print(classification_report(y_test, y_pred, target_names=['no','yes']))"
   ]
  },
  {
   "cell_type": "code",
   "execution_count": 65,
   "id": "1ff59191",
   "metadata": {},
   "outputs": [
    {
     "name": "stdout",
     "output_type": "stream",
     "text": [
      "     feature  importance\n",
      "5    balance    0.176652\n",
      "0        age    0.150742\n",
      "9        day    0.128958\n",
      "10     month    0.097796\n",
      "1        job    0.066299\n",
      "11  campaign    0.065613\n",
      "12     pdays    0.063466\n",
      "8    contact    0.060592\n",
      "14  poutcome    0.049182\n",
      "6    housing    0.034862\n"
     ]
    },
    {
     "data": {
      "image/png": "[encoded data removed]",
      "text/plain": [
       "<Figure size 600x300 with 1 Axes>"
      ]
     },
     "metadata": {},
     "output_type": "display_data"
    }
   ],
   "source": [
    "import pandas as pd\n",
    "import matplotlib.pyplot as plt\n",
    "\n",
    "\n",
    "importances = rfc.feature_importances_\n",
    "feat_names  = x_train.columns\n",
    "\n",
    "\n",
    "df_imp = pd.DataFrame({\n",
    "    'feature': feat_names,\n",
    "    'importance': importances\n",
    "}).sort_values('importance', ascending=False)\n",
    "\n",
    "\n",
    "print(df_imp.head(10))\n",
    "\n",
    "\n",
    "plt.figure(figsize=(6, 3))\n",
    "plt.barh(df_imp['feature'].head(10), df_imp['importance'].head(10))\n",
    "plt.gca().invert_yaxis()\n",
    "plt.xlabel('Importance')\n",
    "plt.title('Top 10 Feature Importances')\n",
    "plt.show()\n"
   ]
  }
 ],
 "metadata": {
  "kernelspec": {
   "display_name": "base",
   "language": "python",
   "name": "python3"
  },
  "language_info": {
   "codemirror_mode": {
    "name": "ipython",
    "version": 3
   },
   "file_extension": ".py",
   "mimetype": "text/x-python",
   "name": "python",
   "nbconvert_exporter": "python",
   "pygments_lexer": "ipython3",
   "version": "3.9.13"
  }
 },
 "nbformat": 4,
 "nbformat_minor": 5
}
